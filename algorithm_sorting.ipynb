{
 "metadata": {
  "language_info": {
   "codemirror_mode": {
    "name": "ipython",
    "version": 3
   },
   "file_extension": ".py",
   "mimetype": "text/x-python",
   "name": "python",
   "nbconvert_exporter": "python",
   "pygments_lexer": "ipython3",
   "version": "3.8.2-final"
  },
  "orig_nbformat": 2,
  "kernelspec": {
   "name": "python3",
   "display_name": "Python 3.8.2 64-bit",
   "metadata": {
    "interpreter": {
     "hash": "31f2aee4e71d21fbe5cf8b01ff0e069b9275f58929596ceb00d14d90e3e16cd6"
    }
   }
  }
 },
 "nbformat": 4,
 "nbformat_minor": 2,
 "cells": [
  {
   "cell_type": "code",
   "execution_count": 5,
   "metadata": {},
   "outputs": [
    {
     "output_type": "stream",
     "name": "stdout",
     "text": [
      "10\n[0, 1, 2, 3, 4, 5, 6, 7, 8, 9]\n"
     ]
    }
   ],
   "source": [
    "# 선택 정렬\n",
    "array = [5, 3, 2, 6, 7, 8, 9, 0, 1, 4]\n",
    "print(len(array))\n",
    "\n",
    "for i in range(len(array)):\n",
    "    min_index = i\n",
    "    for j in range(i+1, len(array)):\n",
    "        if array[min_index] > array[j]:\n",
    "            min_index = j \n",
    "        \n",
    "    array[min_index], array[i] = array[i], array[min_index]\n",
    "\n",
    "print(array)\n",
    "        "
   ]
  },
  {
   "cell_type": "code",
   "execution_count": 12,
   "metadata": {},
   "outputs": [
    {
     "output_type": "stream",
     "name": "stdout",
     "text": [
      "[0, 1, 2, 3, 4, 5, 6, 7, 8, 9]\n"
     ]
    }
   ],
   "source": [
    "# 삽입 정렬\n",
    "array = [5, 3, 2, 6, 7, 8, 9, 0, 1, 4]\n",
    "\n",
    "# 두번째 원소부터 시작\n",
    "for i in range(1, len(array)):\n",
    "    # i부터 0까지 감소하면서 비교하기\n",
    "    for j in range(i, 0, -1):\n",
    "        if array[j] < array[j-1]:\n",
    "            # j번째 원소와 j-1 번째 원소를 비교해서 작으면 바로 바꾸기\n",
    "            array[j], array[j-1] = array[j-1], array[j]\n",
    "        else:\n",
    "            # j번째 원소가 더 크면 반복을 종료하기 \n",
    "            break\n",
    "\n",
    "print(array)"
   ]
  },
  {
   "cell_type": "code",
   "execution_count": 19,
   "metadata": {},
   "outputs": [
    {
     "output_type": "stream",
     "name": "stdout",
     "text": [
      "[0, 1, 2, 3, 4, 5, 6, 7, 8, 9]\n"
     ]
    }
   ],
   "source": [
    "# 퀵 정렬\n",
    "array = [5, 3, 2, 6, 7, 8, 9, 0, 1, 4]\n",
    "\n",
    "# 분할이 되는 경우 시작과 끝 인덱스를 지정해주어야한다.\n",
    "def quick_sort(array, start, end):\n",
    "    # 정렬할 원소가 1개인 경우 종료한다.\n",
    "    if start >= end:\n",
    "        return \n",
    "    pivot = start\n",
    "    left = start + 1\n",
    "    right = end\n",
    "    # left, right 의 index 가 서로 엇갈리기 전까지 정렬을 반복한다.\n",
    "    while(left <= right):\n",
    "        # 왼쪽에서 오른쪽으로 가면서 pivot 보다 큰 값을 찾기 # pivot 값보다 작거나 같으면 left 이동을 반복한다\n",
    "        while(left <= end and array[left] <= array[pivot]):\n",
    "            left += 1\n",
    "\n",
    "        # 오른쪽에서 왼쪽으로 가면서 pivot 보다 작은 값을 찾기 # pivot 값보다 크거나 같으면 right 이동을 반복한다.\n",
    "        while(right > start and array[right] >= array[pivot]):\n",
    "            right -= 1\n",
    "\n",
    "        # 인덱스가 엇갈리는 경우 피봇과 작은 데이터를 서로 전환한다.\n",
    "        if(left > right):\n",
    "            array[pivot], array[right] = array[right], array[pivot]\n",
    "        # 인덱스가 엇갈리지 않는 경우 큰 데이터와 작은 데이터를 서로 전환한다. \n",
    "        else:\n",
    "            array[left], array[right] = array[right], array[left]\n",
    "\n",
    "    # pivot 을 중심으로 분할된 이후 quick_sort 함수를 재귀적으로 호출한다. # 작은 값의 자리에 pivot 이 존재하고 있다.\n",
    "    quick_sort(array, start, right-1) # 왼쪽부분\n",
    "    quick_sort(array, right+1, end) # 오른쪽 부분\n",
    "\n",
    "\n",
    "quick_sort(array, 0, len(array)-1)\n",
    "print(array)\n"
   ]
  },
  {
   "cell_type": "code",
   "execution_count": 21,
   "metadata": {},
   "outputs": [
    {
     "output_type": "stream",
     "name": "stdout",
     "text": [
      "[0, 1, 2, 3, 4, 5, 6, 7, 8, 9]\n"
     ]
    }
   ],
   "source": [
    "# 퀵정렬\n",
    "\n",
    "def quick_sort(array):\n",
    "    # 리스트의 원소가 하나 이하라면 종료한다.\n",
    "    if len(array) <= 1:\n",
    "        return array\n",
    "    pivot = array[0] # 첫번째 원소를 피벗으로 지정한다.\n",
    "    tail = array[1:] # 피벗을 제외한 리스트\n",
    "\n",
    "    # 분할된 왼쪽 부분\n",
    "    left_side = [x for x in tail if x <= pivot]\n",
    "\n",
    "    # 분할된 오른쪽 부분\n",
    "    right_side = [x for x in tail if x > pivot]\n",
    "\n",
    "    # pivot 을 기준으로 왼쪽과 오른쪽을 각각 정렬 수행하고, 이어붙여 전체 리스트를 반환한다. \n",
    "    return quick_sort(left_side) + [pivot] + quick_sort(right_side)\n",
    "\n",
    "array = [5, 3, 2, 6, 7, 8, 9, 0, 1, 4]\n",
    "print(quick_sort(array))"
   ]
  }
 ]
}