{
 "metadata": {
  "language_info": {
   "codemirror_mode": {
    "name": "ipython",
    "version": 3
   },
   "file_extension": ".py",
   "mimetype": "text/x-python",
   "name": "python",
   "nbconvert_exporter": "python",
   "pygments_lexer": "ipython3",
   "version": "3.8.2-final"
  },
  "orig_nbformat": 2,
  "kernelspec": {
   "name": "python3",
   "display_name": "Python 3.8.2 64-bit",
   "metadata": {
    "interpreter": {
     "hash": "31f2aee4e71d21fbe5cf8b01ff0e069b9275f58929596ceb00d14d90e3e16cd6"
    }
   }
  }
 },
 "nbformat": 4,
 "nbformat_minor": 2,
 "cells": [
  {
   "cell_type": "code",
   "execution_count": 30,
   "metadata": {},
   "outputs": [],
   "source": [
    "# 18110\n",
    "from sys import stdin\n",
    "\n",
    "def new_round(num):\n",
    "    if num - int(num) >= 0.5:\n",
    "        return int(num) + 1\n",
    "    else:\n",
    "        return int(num)\n",
    "\n",
    "stdin.readline(2)\n",
    "for line in stdin:\n",
    "    print(stdin)\n",
    "\n",
    "\n",
    "# n = sys.stdin.readline()\n",
    "# if n == 0:\n",
    "#     print(0)\n",
    "# else:\n",
    "#     levels = []\n",
    "#     for line in sys.stdin:\n",
    "#         levels.append(line.strip().split())\n",
    "#     print(levels)\n",
    "#     levels.sort()\n",
    "#     exception = new_round(n * 0.15)\n",
    "#     result = new_round(sum(levels[exception:n-exception]) / (n-exception*2))\n",
    "\n",
    "#     print(result)"
   ]
  },
  {
   "cell_type": "code",
   "execution_count": 1,
   "metadata": {},
   "outputs": [
    {
     "output_type": "stream",
     "name": "stdout",
     "text": [
      "0\n"
     ]
    }
   ],
   "source": [
    "# 18110\n",
    "import sys\n",
    "\n",
    "def new_round(num):\n",
    "    if num - int(num) >= 0.5:\n",
    "        return int(num) + 1\n",
    "    else:\n",
    "        return int(num)\n",
    "\n",
    "n = int(input())\n",
    "if n == 0:\n",
    "    print(0)\n",
    "else:\n",
    "    levels = sys.stdin.readlines()\n",
    "    # for i in range(n):\n",
    "    #    levels.append(int(input()))\n",
    "    levels.sort()\n",
    "    exception = new_round(n * 0.15)\n",
    "    result = new_round(sum(levels[exception:n-exception]) / (n-exception*2))\n",
    "\n",
    "    print(result)"
   ]
  },
  {
   "source": [
    "# 10828 스택\n",
    "# 파이썬에서 스택은 List 를 이용하자!\n",
    "import re\n",
    "\n",
    "def stack_command(stack, command):\n",
    "    if command.startswith('push'):\n",
    "        num = re.findall(\"\\d+\", command)[0]\n",
    "        stack.append(num)\n",
    "    elif command == 'pop':\n",
    "        if len(stack) == 0:\n",
    "            print(-1)\n",
    "        else:\n",
    "            num = stack.pop()\n",
    "            print(num)\n",
    "    elif command == 'size':\n",
    "        print(len(stack))\n",
    "    elif command == 'empty':\n",
    "        if len(stack) == 0:\n",
    "            print(1)\n",
    "        else:\n",
    "            print(0)\n",
    "    elif command == 'top':\n",
    "        if len(stack) == 0:\n",
    "            print(-1)\n",
    "        else:\n",
    "            print(stack[-1])\n",
    "\n",
    "n = int(input())\n",
    "commands = []\n",
    "for i in range(n):\n",
    "    commands.append(input())\n",
    "\n",
    "stack = []\n",
    "for c in commands:\n",
    "    stack_command(stack, c)\n",
    "\n"
   ],
   "cell_type": "code",
   "metadata": {},
   "execution_count": 17,
   "outputs": [
    {
     "output_type": "stream",
     "name": "stdout",
     "text": [
      "-1\n",
      "-1\n",
      "123\n",
      "123\n",
      "-1\n",
      "-1\n"
     ]
    }
   ]
  },
  {
   "cell_type": "code",
   "execution_count": 27,
   "metadata": {},
   "outputs": [
    {
     "output_type": "error",
     "ename": "StopIteration",
     "evalue": "",
     "traceback": [
      "\u001b[0;31m---------------------------------------------------------------------------\u001b[0m",
      "\u001b[0;31mStopIteration\u001b[0m                             Traceback (most recent call last)",
      "\u001b[0;32m<ipython-input-27-1e5d200cb815>\u001b[0m in \u001b[0;36m<module>\u001b[0;34m\u001b[0m\n\u001b[1;32m      6\u001b[0m \u001b[0;32mfrom\u001b[0m \u001b[0msys\u001b[0m \u001b[0;32mimport\u001b[0m \u001b[0mstdin\u001b[0m\u001b[0;34m\u001b[0m\u001b[0;34m\u001b[0m\u001b[0m\n\u001b[1;32m      7\u001b[0m \u001b[0mstack\u001b[0m \u001b[0;34m=\u001b[0m \u001b[0;34m[\u001b[0m\u001b[0;34m]\u001b[0m\u001b[0;34m\u001b[0m\u001b[0;34m\u001b[0m\u001b[0m\n\u001b[0;32m----> 8\u001b[0;31m \u001b[0mnext\u001b[0m\u001b[0;34m(\u001b[0m\u001b[0mstdin\u001b[0m\u001b[0;34m)\u001b[0m\u001b[0;34m\u001b[0m\u001b[0;34m\u001b[0m\u001b[0m\n\u001b[0m\u001b[1;32m      9\u001b[0m \u001b[0;32mfor\u001b[0m \u001b[0mline\u001b[0m \u001b[0;32min\u001b[0m \u001b[0mstdin\u001b[0m\u001b[0;34m:\u001b[0m\u001b[0;34m\u001b[0m\u001b[0;34m\u001b[0m\u001b[0m\n\u001b[1;32m     10\u001b[0m     \u001b[0mcommand\u001b[0m \u001b[0;34m=\u001b[0m \u001b[0mline\u001b[0m\u001b[0;34m.\u001b[0m\u001b[0msplit\u001b[0m\u001b[0;34m(\u001b[0m\u001b[0;34m)\u001b[0m\u001b[0;34m\u001b[0m\u001b[0;34m\u001b[0m\u001b[0m\n",
      "\u001b[0;31mStopIteration\u001b[0m: "
     ]
    }
   ],
   "source": [
    "# 10828 스택 수정본\n",
    "# 시간 492ms > 72ms\n",
    "# 입력하는 함수 input() -> sys.stdin 으로 변경\n",
    "# 커맨드 구분할 때 split() 함수 이용\n",
    "# stack 이 비어있는지 확인하기 위해 if stack 으로 비교\n",
    "from sys import stdin\n",
    "stack = []\n",
    "next(stdin)\n",
    "for line in stdin:\n",
    "    command = line.split()\n",
    "    if command[0] == 'push':\n",
    "        stack.append(command[1])\n",
    "    elif command[0] == 'pop':\n",
    "        if stack:\n",
    "            print(stack.pop())\n",
    "        else:\n",
    "            print(-1)            \n",
    "    elif command[0] == 'size':\n",
    "        print(len(stack))\n",
    "    elif command[0] == 'empty':\n",
    "        if stack:\n",
    "            print(0)\n",
    "        else:\n",
    "            print(1)\n",
    "    elif command[0] == 'top':\n",
    "        if stack:\n",
    "            print(stack[-1])\n",
    "        else:\n",
    "            print(-1)"
   ]
  }
 ]
}