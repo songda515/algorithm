{
 "metadata": {
  "language_info": {
   "codemirror_mode": {
    "name": "ipython",
    "version": 3
   },
   "file_extension": ".py",
   "mimetype": "text/x-python",
   "name": "python",
   "nbconvert_exporter": "python",
   "pygments_lexer": "ipython3",
   "version": "3.8.2-final"
  },
  "orig_nbformat": 2,
  "kernelspec": {
   "name": "python3",
   "display_name": "Python 3.8.2 64-bit",
   "metadata": {
    "interpreter": {
     "hash": "31f2aee4e71d21fbe5cf8b01ff0e069b9275f58929596ceb00d14d90e3e16cd6"
    }
   }
  }
 },
 "nbformat": 4,
 "nbformat_minor": 2,
 "cells": [
  {
   "source": [
    "유클리드 호제법\n",
    "- 두 자연수 A, B 에 대하여 (A > B) A 를 B로 나눈 나머지를 R이라고 하자.\n",
    "- 이때 A와 B의 최대공약수는 B와 R의 최대공약수와 같다."
   ],
   "cell_type": "markdown",
   "metadata": {}
  },
  {
   "cell_type": "code",
   "execution_count": 2,
   "metadata": {},
   "outputs": [
    {
     "output_type": "stream",
     "name": "stdout",
     "text": [
      "6\n"
     ]
    }
   ],
   "source": [
    "def gcd(a, b):\n",
    "    if a % b == 0:\n",
    "        return b\n",
    "    else:\n",
    "        return gcd(b, a % b)\n",
    "\n",
    "print(gcd(192, 162))"
   ]
  },
  {
   "source": [
    "DFS 깊이 우선 탐색\n",
    "\n",
    "1. 탐색 시작 노드를 스택에 삽입하고 방문 처리를 한다.\n",
    "- 방문 기준은 문제마다 달라질 수도 있고, 상관이 없을수도 있다.\n",
    "2. 스택의 최상단 노드에 방문하지 않은 인접한 노드가 하나라도 있으면 그 노드를 스택에 넣고 방문처리한다. 혹은 방문하지 않은 인접노드가 없으면 스택에서 최상단 노드를 꺼낸다. \n",
    "3. 더 이상 2번의 과정을 수행할 수 없을 때까지 반복한다. "
   ],
   "cell_type": "markdown",
   "metadata": {}
  },
  {
   "cell_type": "code",
   "execution_count": 7,
   "metadata": {},
   "outputs": [
    {
     "output_type": "stream",
     "name": "stdout",
     "text": [
      "1 2 7 6 8 3 4 5 "
     ]
    }
   ],
   "source": [
    "graph = [\n",
    "    [],\n",
    "    [2, 3, 8],\n",
    "    [1, 7],\n",
    "    [1, 4, 5],\n",
    "    [3, 5],\n",
    "    [3, 4],\n",
    "    [7],\n",
    "    [2, 6, 8],\n",
    "    [1, 7]\n",
    "]\n",
    "\n",
    "visited = [False] * 9  # (n+1)\n",
    "\n",
    "def dfs(graph, v, visited):\n",
    "    visited[v] = True # 현재 노드를 방문처리\n",
    "    print(v, end=' ')\n",
    "    for node in graph[v]: # 인접한 노드 반복\n",
    "        if not visited[node]: # 노드가 방문되지 않은 경우\n",
    "            dfs(graph, node, visited)\n",
    "\n",
    "dfs(graph, 1, visited)"
   ]
  },
  {
   "source": [
    "BFS, 너비 우선 탐색 \n",
    "\n",
    "1. 탐색 시작 노드를 큐에 삽입하고 방문 처리를 한다.\n",
    "2. 큐에서 노드를 꺼낸 뒤에 해당 노드의 인접 노드 중에서 방문하지 않은 노드를 모두 큐에 삽입하고 방문처리한다.\n",
    "3. 더 이상 2번의 과정을 수행할 수 없을 때까지 반복한다. "
   ],
   "cell_type": "markdown",
   "metadata": {}
  },
  {
   "cell_type": "code",
   "execution_count": 8,
   "metadata": {},
   "outputs": [
    {
     "output_type": "stream",
     "name": "stdout",
     "text": [
      "1 2 3 8 7 4 5 6 "
     ]
    }
   ],
   "source": [
    "from collections import deque\n",
    "\n",
    "graph = [\n",
    "    [],\n",
    "    [2, 3, 8],\n",
    "    [1, 7],\n",
    "    [1, 4, 5],\n",
    "    [3, 5],\n",
    "    [3, 4],\n",
    "    [7],\n",
    "    [2, 6, 8],\n",
    "    [1, 7]\n",
    "]\n",
    "\n",
    "visited = [False] * 9  # (n+1)\n",
    "\n",
    "def bfs(graph, start, visited):\n",
    "    queue = deque([start])\n",
    "    visited[start] = True # 현재 노드 방문처리\n",
    "    # 큐가 빌 때까지 반복\n",
    "    while(queue):\n",
    "        # 큐에서 원소를 하나 뽑기\n",
    "        v = queue.popleft()\n",
    "        print(v, end= ' ')\n",
    "        # 아직 방문하지 않은 인접한 원소들을 큐에 삽입, 방문 처리\n",
    "        for node in graph[v]:\n",
    "            if not visited[node]:\n",
    "                queue.append(node)\n",
    "                visited[node] = True\n",
    "\n",
    "bfs(graph, 1, visited)"
   ]
  },
  {
   "cell_type": "code",
   "execution_count": null,
   "metadata": {},
   "outputs": [],
   "source": []
  },
  {
   "source": [
    "N x M 크기의 얼음 틀이 있다. 얼음 틀의 모양이 주어질 때 총 아이스크림의 개수를 구하는 프로그램을 작성하세요.\n",
    "\n",
    "- 구멍이 뚫려 있는 부분은 0, 칸막이가 존재하는 부분은 1로 표시된다.\n",
    "- 구멍이 뚫려 있는 부분끼리 상, 하, 좌, 우로 붙어있는 경우 서로 연결되어 있는 것으로 간주한다.\n",
    "\n",
    "입출력 조건\n",
    "- 첫번째 줄에 얼음 틀의 세로 길이 N, 가로 길이 M 이 주어진다. (1 <= N, M <= 1000)\n",
    "- 두번째 줄부터 N+1 번째 줄까지 얼음 틀의 형태가 주어진다.\n",
    "- 한 번에 만들 수 있는 아이스크림의 개수를 출력합니다.\n",
    "\n",
    "문제 해결\n",
    "- DFS 혹은 BFS 로 해결할 수 있다.\n",
    "- 얼음을 얼릴 수 있는 공간이 상, 하, 좌, 우로 연결되어 있다고 표현할 수 있으므로 그래프 형태로 모델링 할 수 있다.\n",
    "    - 서로 연결되어 있는, 연결되어 있는 개수가 몇개인지 구하면 된다.\n",
    "    - 상 하 좌 우로 연결된 위치들은 서로 인접한 노드 형태로 표현하면 된다.\n",
    "    - 특정 지점에서 DFS, BFS 를 수행하며 이동가능한 모든 노드에 대해서 방문처리를 진행하도록 처리한다.\n",
    "        - 0 > 0 이동가능한 노드, 0 > 1 이동 불가능한 노드로 판단\n",
    "    - 모든 지점에 대해서 DFS, BFS 를 수행해서 방문처리가 이루어지는 노드에 대해서만 카운팅하면 전체 연결 요소가 몇 개 인지 확인할 수 있다.\n",
    "\n",
    "DFS 를 활용하는 알고리즘\n",
    "\n",
    "1. 특정한 지점의 상하좌우를 살펴본 뒤, 주변 지점 중에서 값이 '0' 이면서 아직 방문하지 않은 지점이 있다면 해당 지점을 방문한다.\n",
    "2. 방문한 지점에서 다시 상하좌우를 살펴보면서 방문을 진행하는 과정을 반복하면, 연결된 모든 지점을 방문할 수 있다.\n",
    "3. 모든 노드에 대하여 1 ~ 2 번의 과정을 반복하며, 방문하지 않은 지점의 수를 카운트한다. "
   ],
   "cell_type": "markdown",
   "metadata": {}
  },
  {
   "cell_type": "code",
   "execution_count": 23,
   "metadata": {},
   "outputs": [
    {
     "output_type": "stream",
     "name": "stdout",
     "text": [
      "[[0, 0, 1, 0, 0], [0, 0, 1, 0, 0], [0, 0, 1, 0, 0], [0, 0, 1, 0, 0]]\n"
     ]
    }
   ],
   "source": [
    "n, m = map(int, input().split()) # default = ' '\n",
    "graph = []\n",
    "for i in range(n):\n",
    "    graph.append(list(map(int, input())))\n",
    "\n",
    "print(graph)\n",
    "\n",
    "# 모든 노드에 대하여 음료수 채우기 \n",
    "result = 0\n",
    "for i in range(n):\n",
    "    for j in range(m):\n",
    "        # 현재 위치에서 DFS 수행 > 방문처리가 되었다면 result 증가 \n",
    "        if dfs(i, j) == True:\n",
    "            result += 1\n",
    "\n",
    "print(result)"
   ]
  },
  {
   "cell_type": "code",
   "execution_count": 24,
   "metadata": {},
   "outputs": [
    {
     "output_type": "stream",
     "name": "stdout",
     "text": [
      "2\n"
     ]
    }
   ],
   "source": [
    "# DFS 로 특정 노드를 방문하고 연결된 모든 노드들도 방문\n",
    "def dfs(x, y):\n",
    "    # 주어진 범위를 벗어나는 경우 즉시 종료\n",
    "    if x <= -1 or x >= n or y <= -1 or y >= m:\n",
    "        return False\n",
    "    \n",
    "    # 현재 노드를 아직 방문하지 않았다면\n",
    "    if graph[x][y] == 0:\n",
    "        graph[x][y] = 1 # 방문 처리\n",
    "        # 상하좌우 위치들도 모두 재귀적으로 호출\n",
    "        dfs(x - 1, y)\n",
    "        dfs(x, y - 1)\n",
    "        dfs(x + 1, y)\n",
    "        dfs(x, y + 1)\n",
    "        return True \n",
    "    return False "
   ]
  },
  {
   "source": [
    "동빈이는 N x M 크기의 직사각형 형태의 미로에 갇혔다. 미로에는 여러 마리의 괴물이 있어 이를 피해 탈출해야 한다.\n",
    "- 동빈이의 위치는 (1, 1) 이며 미로의 출구는 (N, M) 의 위치에 존재하며, 한 번에 한 칸씩 이동할 수 있다.\n",
    "    - 괴물이 있는 부분은 0으로, 괴물이 없는 부분은 1로 표시되어 있다. \n",
    "    - 미로는 반드시 탈출할 수 있는 형태로 제시된다.\n",
    "- 이때 동빈이가 탈출하기 위해 움직여야 하는 최소 칸의 개수를 구하세요. \n",
    "    - 칸을 셀 때는 시작 칸과 마지막 칸을 모두 포함해서 계산한다.\n",
    "\n",
    "입출력 조건\n",
    "- 첫째 줄에 두 정수 N, M (4 <= N, M <= 200) 이 주어진다.\n",
    "- 다음 N개의 줄에는 각각 M개의 정수(0 or 1)로 미로의 정보가 주어진다.\n",
    "- 각각의 수들은 공백 없이 붙어서 입력으로 제시된다.\n",
    "- 또한 시작칸과 마지막 칸은 항상 1이다.\n",
    "- 출력: 첫째 줄에 최소 이동 칸의 개수를 출력한다."
   ],
   "cell_type": "markdown",
   "metadata": {}
  },
  {
   "cell_type": "code",
   "execution_count": 10,
   "metadata": {},
   "outputs": [],
   "source": [
    "from collections import deque\n",
    "def bfs(x, y):\n",
    "    queue = deque() # Queue 를 생성\n",
    "    queue.append((x, y)) # 초기 값 큐에 삽입\n",
    "    # queue 가 빌 때 까지 반복\n",
    "    while queue:\n",
    "        x, y = queue.popleft() # 현재 값 꺼내기\n",
    "        # 상하좌우 방향으로 위치 확인\n",
    "        for i in range(4):\n",
    "            nx = x + dx[i]\n",
    "            ny = y + dy[i]\n",
    "            # 미로의 공간을 벗어난 경우 제외\n",
    "            if nx < 0 or nx >= n or ny < 0 or ny >= m:\n",
    "                continue\n",
    "            # 이동할 수 없는 경우 무시\n",
    "            if graph[nx][ny] == 0:\n",
    "                continue \n",
    "            # 해당 노드를 처음 방문하는 경우에만 최단 거리 기록하기\n",
    "            if graph[nx][ny] == 1:\n",
    "                # 이전 노드까지의 최단거리에 1 을 더하기\n",
    "                graph[nx][ny] = graph[x][y] + 1 \n",
    "                queue.append((nx, ny)) # queue 에 새로운 위치 삽입\n",
    "    # 가장 오른쪽 아래까지의 최단 거리 반환\n",
    "    return graph[n - 1][m - 1]"
   ]
  },
  {
   "source": [
    "n, m = map(int, input().split())\n",
    "graph = []\n",
    "for i in range(n):\n",
    "    graph.append(list(map(int, input())))\n",
    "\n",
    "# 이동할 때 네 가지 방향 정의 - 상, 하, 좌, 우 \n",
    "dx = [-1, 1, 0, 0]\n",
    "dy = [0, 0, -1, 1]\n",
    "\n",
    "print(bfs(0, 0))"
   ],
   "cell_type": "code",
   "metadata": {},
   "execution_count": 11,
   "outputs": [
    {
     "output_type": "stream",
     "name": "stdout",
     "text": [
      "10\n"
     ]
    }
   ]
  },
  {
   "cell_type": "code",
   "execution_count": null,
   "metadata": {},
   "outputs": [],
   "source": []
  }
 ]
}