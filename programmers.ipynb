{
 "metadata": {
  "language_info": {
   "codemirror_mode": {
    "name": "ipython",
    "version": 3
   },
   "file_extension": ".py",
   "mimetype": "text/x-python",
   "name": "python",
   "nbconvert_exporter": "python",
   "pygments_lexer": "ipython3",
   "version": "3.8.2-final"
  },
  "orig_nbformat": 2,
  "kernelspec": {
   "name": "python3",
   "display_name": "Python 3.8.2 64-bit",
   "metadata": {
    "interpreter": {
     "hash": "31f2aee4e71d21fbe5cf8b01ff0e069b9275f58929596ceb00d14d90e3e16cd6"
    }
   }
  }
 },
 "nbformat": 4,
 "nbformat_minor": 2,
 "cells": [
  {
   "cell_type": "code",
   "execution_count": 55,
   "metadata": {},
   "outputs": [],
   "source": [
    "def index_sort(n, array):\n",
    "    indexs = list(range(1, n + 1))\n",
    "    for i in range(len(array)):\n",
    "        max_index = i\n",
    "        for j in range(i+1, len(array)):\n",
    "            if array[j] > array[max_index]:\n",
    "                max_index = j\n",
    "\n",
    "        array[max_index], array[i] = array[i], array[max_index]\n",
    "        indexs[max_index], indexs[i] = indexs[i], indexs[max_index]\n",
    "        #print(i, indexs)\n",
    "\n",
    "    for i in indexs:\n",
    "        for j in range(i+1, len(indexs)):\n",
    "            if array[indexs[i]] == array[indexs[j]] and indexs[i] > indexs[j]:\n",
    "                indexs[i], indexs[j] = indexs[j], indexs[i]\n",
    "\n",
    "    return indexs\n",
    "\n",
    "\n",
    "def solution(N, stages):\n",
    "    # 전체 스테이지 개수 N\n",
    "    # 현재 멈춰있는 스테이지의 번호가 담긴 배열 stages\n",
    "    # 실패율 = 스테이지에 멈춰있는 사용자 / 스테이지에 도달한 사용자\n",
    "    fail_rates = []\n",
    "    for n in range(1, N + 1):\n",
    "        #fail_players = len(list(filter(lambda x: x == n, stages)))\n",
    "        #reach_players = len(list(filter(lambda x: x >= n, stages)))\n",
    "        fail_players = len([x for x in stages if x == n])\n",
    "        reach_players = len([x for x in stages if x >= n])\n",
    "        #print(n, fail_players, reach_players)\n",
    "        fail_rates.append(fail_players / reach_players)\n",
    "\n",
    "    # 실패율이 높은 스테이지부터 내림차순으로 스테이지의 번호가 담겨있는 배열을 리턴\n",
    "    return index_sort(len(fail_rates), fail_rates)"
   ]
  },
  {
   "cell_type": "code",
   "execution_count": 56,
   "metadata": {},
   "outputs": [
    {
     "output_type": "stream",
     "name": "stdout",
     "text": [
      "1 0 5\n2 0 5\n3 0 5\n4 5 5\n0 [4, 2, 3, 1]\n1 [4, 2, 3, 1]\n2 [4, 2, 3, 1]\n3 [4, 2, 3, 1]\n"
     ]
    },
    {
     "output_type": "execute_result",
     "data": {
      "text/plain": [
       "[4, 1, 2, 3]"
      ]
     },
     "metadata": {},
     "execution_count": 56
    }
   ],
   "source": [
    "#solution(5, [2, 1, 2, 6, 2, 4, 3, 3])\n",
    "solution(4, [4, 4, 4, 4, 4])"
   ]
  },
  {
   "cell_type": "code",
   "execution_count": 15,
   "metadata": {},
   "outputs": [
    {
     "output_type": "stream",
     "name": "stdout",
     "text": [
      "1 1 8\n2 3 7\n3 2 4\n4 1 2\n5 0 1\n"
     ]
    },
    {
     "output_type": "execute_result",
     "data": {
      "text/plain": [
       "[0.5, 0.5, 0.42857142857142855, 0.125, 0.0]"
      ]
     },
     "metadata": {},
     "execution_count": 15
    }
   ],
   "source": [
    "solution(5, [2, 1, 2, 6, 2, 4, 3, 3])"
   ]
  },
  {
   "cell_type": "code",
   "execution_count": 14,
   "metadata": {},
   "outputs": [
    {
     "output_type": "stream",
     "name": "stdout",
     "text": [
      "[6, 4, 3, 3]\n"
     ]
    }
   ],
   "source": [
    "stages = [2, 1, 2, 6, 2, 4, 3, 3]\n",
    "a = [x for x in stages if x >= n]\n",
    "print(a)"
   ]
  },
  {
   "cell_type": "code",
   "execution_count": 22,
   "metadata": {},
   "outputs": [
    {
     "output_type": "stream",
     "name": "stdout",
     "text": [
      "[1, 2, 3, 4, 5, 6, 7, 8]\n"
     ]
    }
   ],
   "source": [
    "indexs = list(range(1, len(stages)+1))\n",
    "print(indexs)"
   ]
  }
 ]
}