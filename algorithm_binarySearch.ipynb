{
 "metadata": {
  "language_info": {
   "codemirror_mode": {
    "name": "ipython",
    "version": 3
   },
   "file_extension": ".py",
   "mimetype": "text/x-python",
   "name": "python",
   "nbconvert_exporter": "python",
   "pygments_lexer": "ipython3",
   "version": "3.8.2-final"
  },
  "orig_nbformat": 2,
  "kernelspec": {
   "name": "python3",
   "display_name": "Python 3.8.2 64-bit",
   "metadata": {
    "interpreter": {
     "hash": "31f2aee4e71d21fbe5cf8b01ff0e069b9275f58929596ceb00d14d90e3e16cd6"
    }
   }
  }
 },
 "nbformat": 4,
 "nbformat_minor": 2,
 "cells": [
  {
   "cell_type": "code",
   "execution_count": 10,
   "metadata": {},
   "outputs": [
    {
     "output_type": "stream",
     "name": "stdout",
     "text": [
      "index 3 에 존재합니다.\n"
     ]
    }
   ],
   "source": [
    "# 이진 탐색 (재귀함수)\n",
    "def binary_search(array, target, start, end):\n",
    "    # 모든 인덱스를 확인했는데도 없는 경우 None 반환\n",
    "    if start > end:\n",
    "        return None\n",
    "    \n",
    "    mid = (start + end) // 2\n",
    "\n",
    "    # 중간자가 찾는 값이라면 해당 인덱스를 반환한다.\n",
    "    if target == array[mid]:\n",
    "        return mid\n",
    "    # 중간자보다 작다면, 끝점을 중간자의 왼쪽으로 옮긴다.\n",
    "    elif target < array[mid]:\n",
    "        return binary_search(array, target, start, mid-1)\n",
    "    # 중간자보다 크거나 같다면, 끝점을 중간자의 오른쪽으로 옮긴다.\n",
    "    else:\n",
    "        return binary_search(array, target, mid+1, end)\n",
    "\n",
    "n, target = map(int, input().split())\n",
    "\n",
    "array = list(map(int, input().split(\", \"))) \n",
    "\n",
    "result = binary_search(array, target, 0, n-1)\n",
    "\n",
    "if result == None:\n",
    "    print(\"원소가 존재하지 않습니다.\")\n",
    "else:\n",
    "    print(\"index {} 에 존재합니다.\".format(result + 1))"
   ]
  },
  {
   "cell_type": "code",
   "execution_count": 11,
   "metadata": {},
   "outputs": [
    {
     "output_type": "stream",
     "name": "stdout",
     "text": [
      "index 3 에 존재합니다.\n"
     ]
    }
   ],
   "source": [
    "# 이진 탐색 (반복문)\n",
    "def binary_search(array, target, start, end):\n",
    "    while start <= end:\n",
    "        mid = (start + end) // 2\n",
    "        # 중간자가 찾는 값이라면 해당 인덱스를 반환한다.\n",
    "        if target == array[mid]:\n",
    "            return mid\n",
    "        # 중간자보다 작다면, 끝점을 중간자의 왼쪽으로 옮긴다.\n",
    "        elif target < array[mid]:\n",
    "            end = mid - 1\n",
    "        # 중간자보다 크거나 같다면, 끝점을 중간자의 오른쪽으로 옮긴다.\n",
    "        else:\n",
    "            start = mid + 1\n",
    "    return None\n",
    "\n",
    "result = binary_search(array, target, 0, n-1)\n",
    "\n",
    "if result == None:\n",
    "    print(\"원소가 존재하지 않습니다.\")\n",
    "else:\n",
    "    print(\"index {} 에 존재합니다.\".format(result + 1))"
   ]
  },
  {
   "cell_type": "code",
   "execution_count": 33,
   "metadata": {},
   "outputs": [
    {
     "output_type": "stream",
     "name": "stdout",
     "text": [
      "2\n4\n2\n[1, 3, 5, 5, 7, 9]\n"
     ]
    }
   ],
   "source": [
    "from bisect import bisect_left, bisect_right\n",
    "\n",
    "array = [1, 3, 5, 5, 7, 9]\n",
    "x = 5\n",
    "print(bisect_left(array, x))\n",
    "print(bisect_right(array, x))\n",
    "print(array)"
   ]
  },
  {
   "cell_type": "code",
   "execution_count": 14,
   "metadata": {},
   "outputs": [
    {
     "output_type": "stream",
     "name": "stdout",
     "text": [
      "5\n3\n"
     ]
    }
   ],
   "source": [
    "from bisect import bisect_left, bisect_right\n",
    "\n",
    "def count_by_range(array, left_value, right_value):\n",
    "    right_index = bisect_right(array, right_value)\n",
    "    left_index = bisect_left(array, left_value)\n",
    "    return right_index - left_index\n",
    "\n",
    "array = [1, 2, 3, 4, 4, 5, 5, 5, 6, 7, 7, 8]\n",
    "\n",
    "print(count_by_range(array, 4, 5)) # 5\n",
    "print(count_by_range(array, -3, 3)) # 3"
   ]
  },
  {
   "cell_type": "code",
   "execution_count": 32,
   "metadata": {},
   "outputs": [
    {
     "output_type": "stream",
     "name": "stdout",
     "text": [
      "[10, 14, 17, 19]\n0 9 18 24\n10 14 18 8\n15 16 18 4\n15 15 15 6\n15\n"
     ]
    }
   ],
   "source": [
    "n, m = map(int, input().split()) # 떡의 개수 N, 요청한 떡의 길이 M\n",
    "array = list(map(int, input().split())) # 떡의 개별 높이 \n",
    "# 예시 - 개수 4 요청 6 -> 19, 14, 10, 17 -> 절단기 최대 높이 15 (4, 0, 0, 2) \n",
    "\n",
    "array.sort()\n",
    "\n",
    "print(array)\n",
    "\n",
    "def binary_search(array, target, start, end):\n",
    "    while(start <= end):\n",
    "        mid = (start + end) // 2\n",
    "        total = 0\n",
    "\n",
    "        # 잘랐을 때의 떡의 양 계산\n",
    "        for a in array:\n",
    "            if a > mid:\n",
    "                total += a - mid \n",
    "        print(start, mid, end, total)\n",
    "\n",
    "        # 떡의 양이 같은 경우 반환하기\n",
    "        if total == target:\n",
    "            return mid\n",
    "        # 떡의 양이 많은 경우 덜 자르기\n",
    "        elif total > target:\n",
    "            start = mid + 1\n",
    "        # 떡의 양이 부족한 경우 더 자르기 \n",
    "        else:\n",
    "            end = mid - 1\n",
    "\n",
    "print(binary_search(array, 6, 0, max(array) - 1))\n",
    "\n"
   ]
  },
  {
   "cell_type": "code",
   "execution_count": 34,
   "metadata": {},
   "outputs": [
    {
     "output_type": "stream",
     "name": "stdout",
     "text": [
      "4\n"
     ]
    }
   ],
   "source": [
    "from bisect import bisect_left, bisect_right\n",
    "\n",
    "def binary_search(array, target):\n",
    "    start = 0\n",
    "    end = len(array)-1\n",
    "    while(start <= end):\n",
    "        mid = (start + end) // 2\n",
    "        if target == array[mid]:\n",
    "            return target\n",
    "        elif target > array[mid]:\n",
    "            start = mid + 1\n",
    "        else:\n",
    "            end = mid - 1\n",
    "    return None\n",
    "\n",
    "\n",
    "n, x = map(int, input().split()) # 7 2\n",
    "array = list(map(int, input().split())) # [1 1 2 2 2 2 3]\n",
    "if binary_search(array, x) == None:\n",
    "    print(\"-1\")\n",
    "else:\n",
    "    left_index = bisect_left(array, x)\n",
    "    right_index = bisect_right(array, x)\n",
    "    print(right_index - left_index)\n",
    "\n",
    "\n"
   ]
  },
  {
   "cell_type": "code",
   "execution_count": 35,
   "metadata": {},
   "outputs": [
    {
     "output_type": "stream",
     "name": "stdout",
     "text": [
      "4\n"
     ]
    }
   ],
   "source": [
    "from bisect import bisect_left, bisect_right\n",
    "\n",
    "def count_by_range(array, left_value, right_value):\n",
    "    right_index = bisect_right(array, right_value)\n",
    "    left_index = bisect_left(array, left_value)\n",
    "    return right_index - left_index\n",
    "\n",
    "n, x = map(int, input().split()) # 7 2\n",
    "array = list(map(int, input().split())) # [1 1 2 2 2 2 3]\n",
    "\n",
    "count = count_by_range(array, x, x)\n",
    "\n",
    "# 값이 x인 원소가 없는 경우 \n",
    "if count == 0:\n",
    "    print(-1)\n",
    "# 값이 x인 원소가 존재하는 경우\n",
    "else:\n",
    "    print(count)"
   ]
  }
 ]
}